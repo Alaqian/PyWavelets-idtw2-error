{
 "cells": [
  {
   "cell_type": "code",
   "execution_count": 1,
   "id": "06eadbe3-b2a2-48af-9905-861ffd92a54d",
   "metadata": {
    "execution": {
     "iopub.execute_input": "2023-03-17T16:42:17.202785Z",
     "iopub.status.busy": "2023-03-17T16:42:17.202785Z",
     "iopub.status.idle": "2023-03-17T16:42:18.060363Z",
     "shell.execute_reply": "2023-03-17T16:42:18.058381Z",
     "shell.execute_reply.started": "2023-03-17T16:42:17.202785Z"
    },
    "tags": []
   },
   "outputs": [
    {
     "name": "stdout",
     "output_type": "stream",
     "text": [
      "original.shape = (760, 680)\n",
      "coeffs_d_1[1][1].shape = (382, 342)\n",
      "coeffs_d_2[1][1].shape = (193, 173)\n",
      "coeffs_d_3[1][1].shape = (99, 89)\n",
      "coeffs_d_4[1][1].shape = (52, 47)\n",
      "coeffs_d_5[1][1].shape = (28, 26)\n",
      "coeffs_d_6[1][1].shape = (16, 15)\n",
      "coeffs_u_1.shape = (28, 26)\n",
      "coeffs_u_2.shape = (52, 48)\n"
     ]
    },
    {
     "ename": "ValueError",
     "evalue": "`coeffs` must all be of equal size (or None)",
     "output_type": "error",
     "traceback": [
      "\u001b[1;31m---------------------------------------------------------------------------\u001b[0m",
      "\u001b[1;31mValueError\u001b[0m                                Traceback (most recent call last)",
      "Cell \u001b[1;32mIn[1], line 29\u001b[0m\n\u001b[0;32m     27\u001b[0m coeffs_u_2 \u001b[38;5;241m=\u001b[39m pywt\u001b[38;5;241m.\u001b[39midwt2((coeffs_u_1,coeffs_d_5[\u001b[38;5;241m1\u001b[39m]),\u001b[38;5;124m'\u001b[39m\u001b[38;5;124mdb3\u001b[39m\u001b[38;5;124m'\u001b[39m)\n\u001b[0;32m     28\u001b[0m \u001b[38;5;28mprint\u001b[39m(\u001b[38;5;124mf\u001b[39m\u001b[38;5;124m\"\u001b[39m\u001b[38;5;124mcoeffs_u_2.shape = \u001b[39m\u001b[38;5;132;01m{\u001b[39;00mcoeffs_u_2\u001b[38;5;241m.\u001b[39mshape\u001b[38;5;132;01m}\u001b[39;00m\u001b[38;5;124m\"\u001b[39m)\n\u001b[1;32m---> 29\u001b[0m coeffs_u_3 \u001b[38;5;241m=\u001b[39m \u001b[43mpywt\u001b[49m\u001b[38;5;241;43m.\u001b[39;49m\u001b[43midwt2\u001b[49m\u001b[43m(\u001b[49m\u001b[43m(\u001b[49m\u001b[43mcoeffs_u_2\u001b[49m\u001b[43m,\u001b[49m\u001b[43mcoeffs_d_4\u001b[49m\u001b[43m[\u001b[49m\u001b[38;5;241;43m1\u001b[39;49m\u001b[43m]\u001b[49m\u001b[43m)\u001b[49m\u001b[43m,\u001b[49m\u001b[38;5;124;43m'\u001b[39;49m\u001b[38;5;124;43mdb3\u001b[39;49m\u001b[38;5;124;43m'\u001b[39;49m\u001b[43m)\u001b[49m\n\u001b[0;32m     30\u001b[0m \u001b[38;5;28mprint\u001b[39m(\u001b[38;5;124mf\u001b[39m\u001b[38;5;124m\"\u001b[39m\u001b[38;5;124mcoeffs_u_3.shape = \u001b[39m\u001b[38;5;132;01m{\u001b[39;00mcoeffs_u_3\u001b[38;5;241m.\u001b[39mshape\u001b[38;5;132;01m}\u001b[39;00m\u001b[38;5;124m\"\u001b[39m)\n\u001b[0;32m     31\u001b[0m coeffs_u_4 \u001b[38;5;241m=\u001b[39m pywt\u001b[38;5;241m.\u001b[39midwt2((coeffs_u_3,coeffs_d_3[\u001b[38;5;241m1\u001b[39m]),\u001b[38;5;124m'\u001b[39m\u001b[38;5;124mdb3\u001b[39m\u001b[38;5;124m'\u001b[39m)\n",
      "File \u001b[1;32m~\\miniconda3\\envs\\ImV\\lib\\site-packages\\pywt\\_multidim.py:118\u001b[0m, in \u001b[0;36midwt2\u001b[1;34m(coeffs, wavelet, mode, axes)\u001b[0m\n\u001b[0;32m    115\u001b[0m     \u001b[38;5;28;01mraise\u001b[39;00m \u001b[38;5;167;01mValueError\u001b[39;00m(\u001b[38;5;124m\"\u001b[39m\u001b[38;5;124mExpected 2 axes\u001b[39m\u001b[38;5;124m\"\u001b[39m)\n\u001b[0;32m    117\u001b[0m coeffs \u001b[38;5;241m=\u001b[39m {\u001b[38;5;124m'\u001b[39m\u001b[38;5;124maa\u001b[39m\u001b[38;5;124m'\u001b[39m: LL, \u001b[38;5;124m'\u001b[39m\u001b[38;5;124mda\u001b[39m\u001b[38;5;124m'\u001b[39m: HL, \u001b[38;5;124m'\u001b[39m\u001b[38;5;124mad\u001b[39m\u001b[38;5;124m'\u001b[39m: LH, \u001b[38;5;124m'\u001b[39m\u001b[38;5;124mdd\u001b[39m\u001b[38;5;124m'\u001b[39m: HH}\n\u001b[1;32m--> 118\u001b[0m \u001b[38;5;28;01mreturn\u001b[39;00m \u001b[43midwtn\u001b[49m\u001b[43m(\u001b[49m\u001b[43mcoeffs\u001b[49m\u001b[43m,\u001b[49m\u001b[43m \u001b[49m\u001b[43mwavelet\u001b[49m\u001b[43m,\u001b[49m\u001b[43m \u001b[49m\u001b[43mmode\u001b[49m\u001b[43m,\u001b[49m\u001b[43m \u001b[49m\u001b[43maxes\u001b[49m\u001b[43m)\u001b[49m\n",
      "File \u001b[1;32m~\\miniconda3\\envs\\ImV\\lib\\site-packages\\pywt\\_multidim.py:280\u001b[0m, in \u001b[0;36midwtn\u001b[1;34m(coeffs, wavelet, mode, axes)\u001b[0m\n\u001b[0;32m    277\u001b[0m     \u001b[38;5;28;01mraise\u001b[39;00m \u001b[38;5;167;01mValueError\u001b[39;00m(\u001b[38;5;124m\"\u001b[39m\u001b[38;5;124m`coeffs` must contain at least one non-null wavelet \u001b[39m\u001b[38;5;124m\"\u001b[39m\n\u001b[0;32m    278\u001b[0m                      \u001b[38;5;124m\"\u001b[39m\u001b[38;5;124mband\u001b[39m\u001b[38;5;124m\"\u001b[39m)\n\u001b[0;32m    279\u001b[0m \u001b[38;5;28;01mif\u001b[39;00m \u001b[38;5;28many\u001b[39m(s \u001b[38;5;241m!=\u001b[39m coeff_shape \u001b[38;5;28;01mfor\u001b[39;00m s \u001b[38;5;129;01min\u001b[39;00m coeff_shapes):\n\u001b[1;32m--> 280\u001b[0m     \u001b[38;5;28;01mraise\u001b[39;00m \u001b[38;5;167;01mValueError\u001b[39;00m(\u001b[38;5;124m\"\u001b[39m\u001b[38;5;124m`coeffs` must all be of equal size (or None)\u001b[39m\u001b[38;5;124m\"\u001b[39m)\n\u001b[0;32m    282\u001b[0m \u001b[38;5;28;01mif\u001b[39;00m axes \u001b[38;5;129;01mis\u001b[39;00m \u001b[38;5;28;01mNone\u001b[39;00m:\n\u001b[0;32m    283\u001b[0m     axes \u001b[38;5;241m=\u001b[39m \u001b[38;5;28mrange\u001b[39m(ndim_transform)\n",
      "\u001b[1;31mValueError\u001b[0m: `coeffs` must all be of equal size (or None)"
     ]
    }
   ],
   "source": [
    "import pywt.data\n",
    "\n",
    "import cv2\n",
    "\n",
    "import numpy as np\n",
    "\n",
    "import matplotlib.pyplot as plt\n",
    "\n",
    "original = cv2.imread('gigachad.jpg',cv2.IMREAD_GRAYSCALE)\n",
    "print(f\"original.shape = {original.shape}\")\n",
    "\n",
    "coeffs_d_1 = pywt.dwt2(original,'db3')\n",
    "print(f\"coeffs_d_1[1][1].shape = {coeffs_d_1[1][1].shape}\")\n",
    "coeffs_d_2 = pywt.dwt2(coeffs_d_1[0],'db3')\n",
    "print(f\"coeffs_d_2[1][1].shape = {coeffs_d_2[1][1].shape}\")\n",
    "coeffs_d_3 = pywt.dwt2(coeffs_d_2[0],'db3')\n",
    "print(f\"coeffs_d_3[1][1].shape = {coeffs_d_3[1][1].shape}\")\n",
    "coeffs_d_4 = pywt.dwt2(coeffs_d_3[0],'db3')\n",
    "print(f\"coeffs_d_4[1][1].shape = {coeffs_d_4[1][1].shape}\")\n",
    "coeffs_d_5 = pywt.dwt2(coeffs_d_4[0],'db3')\n",
    "print(f\"coeffs_d_5[1][1].shape = {coeffs_d_5[1][1].shape}\")\n",
    "coeffs_d_6 = pywt.dwt2(coeffs_d_5[0],'db3')\n",
    "print(f\"coeffs_d_6[1][1].shape = {coeffs_d_6[1][1].shape}\")\n",
    "\n",
    "coeffs_u_1 = pywt.idwt2((np.empty(coeffs_d_6[0].shape),coeffs_d_6[1]),'db3')\n",
    "print(f\"coeffs_u_1.shape = {coeffs_u_1.shape}\")\n",
    "coeffs_u_2 = pywt.idwt2((coeffs_u_1,coeffs_d_5[1]),'db3')\n",
    "print(f\"coeffs_u_2.shape = {coeffs_u_2.shape}\")\n",
    "coeffs_u_3 = pywt.idwt2((coeffs_u_2,coeffs_d_4[1]),'db3')\n",
    "print(f\"coeffs_u_3.shape = {coeffs_u_3.shape}\")\n",
    "coeffs_u_4 = pywt.idwt2((coeffs_u_3,coeffs_d_3[1]),'db3')\n",
    "print(f\"coeffs_u_4.shape = {coeffs_u_4.shape}\")\n",
    "coeffs_u_5 = pywt.idwt2((coeffs_u_4,coeffs_d_2[1]),'db3')\n",
    "print(f\"coeffs_u_5.shape = {coeffs_u_5.shape}\")\n",
    "coeffs_u_6 = pywt.idwt2((coeffs_u_5,coeffs_d_1[1]),'db3')\n",
    "print(f\"coeffs_u_6.shape = {coeffs_u_6.shape}\")\n",
    "plt.imshow(coeffs_u_6,cmap='gray')\n",
    "\n",
    "plt.show()"
   ]
  }
 ],
 "metadata": {
  "kernelspec": {
   "display_name": "Python [conda env:miniconda3-ImV] *",
   "language": "python",
   "name": "conda-env-miniconda3-ImV-py"
  },
  "language_info": {
   "codemirror_mode": {
    "name": "ipython",
    "version": 3
   },
   "file_extension": ".py",
   "mimetype": "text/x-python",
   "name": "python",
   "nbconvert_exporter": "python",
   "pygments_lexer": "ipython3",
   "version": "3.8.15"
  }
 },
 "nbformat": 4,
 "nbformat_minor": 5
}
